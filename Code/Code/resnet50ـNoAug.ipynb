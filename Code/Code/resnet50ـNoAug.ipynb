{
  "nbformat": 4,
  "nbformat_minor": 0,
  "metadata": {
    "colab": {
      "name": "resnet50ـNoAug.ipynb",
      "provenance": [],
      "collapsed_sections": []
    },
    "kernelspec": {
      "name": "python3",
      "display_name": "Python 3"
    },
    "accelerator": "GPU"
  },
  "cells": [
    {
      "cell_type": "code",
      "metadata": {
        "id": "IqU9ZP5fB1eg",
        "colab_type": "code",
        "outputId": "d564d8ba-5c08-4cd9-ad0c-43acc9c6d3eb",
        "colab": {
          "base_uri": "https://localhost:8080/",
          "height": 185
        }
      },
      "source": [
        "from google.colab import drive\n",
        "drive.mount('/content/drive')\n",
        "\n",
        "import pandas as pd\n",
        "import numpy as np \n",
        "import matplotlib.pyplot as plt\n",
        "import os\n",
        "from urllib.request import urlopen,urlretrieve\n",
        "from PIL import Image\n",
        "from tqdm import tqdm_notebook\n",
        "%matplotlib inline\n",
        "from sklearn.utils import shuffle\n",
        "import cv2\n",
        "from keras.utils import to_categorical\n",
        "from keras.models import load_model\n",
        "from sklearn.datasets import load_files   \n",
        "from keras.utils import np_utils\n",
        "from glob import glob\n",
        "from keras import applications\n",
        "from keras.preprocessing.image import ImageDataGenerator \n",
        "from keras import optimizers\n",
        "from keras.models import Sequential,Model,load_model\n",
        "from keras.layers import Dense, Dropout, Flatten, Conv2D, MaxPool2D,GlobalAveragePooling2D\n",
        "from keras.callbacks import TensorBoard,ReduceLROnPlateau,ModelCheckpoint\n",
        "from keras.optimizers import SGD, Adam\n",
        "from sklearn.model_selection import train_test_split\n"
      ],
      "execution_count": 1,
      "outputs": [
        {
          "output_type": "stream",
          "text": [
            "Go to this URL in a browser: https://accounts.google.com/o/oauth2/auth?client_id=947318989803-6bn6qk8qdgf4n4g3pfee6491hc0brc4i.apps.googleusercontent.com&redirect_uri=urn%3Aietf%3Awg%3Aoauth%3A2.0%3Aoob&scope=email%20https%3A%2F%2Fwww.googleapis.com%2Fauth%2Fdocs.test%20https%3A%2F%2Fwww.googleapis.com%2Fauth%2Fdrive%20https%3A%2F%2Fwww.googleapis.com%2Fauth%2Fdrive.photos.readonly%20https%3A%2F%2Fwww.googleapis.com%2Fauth%2Fpeopleapi.readonly&response_type=code\n",
            "\n",
            "Enter your authorization code:\n",
            "··········\n",
            "Mounted at /content/drive\n"
          ],
          "name": "stdout"
        },
        {
          "output_type": "stream",
          "text": [
            "Using TensorFlow backend.\n"
          ],
          "name": "stderr"
        },
        {
          "output_type": "display_data",
          "data": {
            "text/html": [
              "<p style=\"color: red;\">\n",
              "The default version of TensorFlow in Colab will soon switch to TensorFlow 2.x.<br>\n",
              "We recommend you <a href=\"https://www.tensorflow.org/guide/migrate\" target=\"_blank\">upgrade</a> now \n",
              "or ensure your notebook will continue to use TensorFlow 1.x via the <code>%tensorflow_version 1.x</code> magic:\n",
              "<a href=\"https://colab.research.google.com/notebooks/tensorflow_version.ipynb\" target=\"_blank\">more info</a>.</p>\n"
            ],
            "text/plain": [
              "<IPython.core.display.HTML object>"
            ]
          },
          "metadata": {
            "tags": []
          }
        }
      ]
    },
    {
      "cell_type": "code",
      "metadata": {
        "id": "LFsO6O9xB_Um",
        "colab_type": "code",
        "outputId": "6f7683c7-ce41-4c4b-f644-bc7ca27d2a98",
        "colab": {
          "base_uri": "https://localhost:8080/",
          "height": 649
        }
      },
      "source": [
        "\n",
        "img_height,img_width = 128,128 \n",
        "num_classes = 10\n",
        "#model articheture and added layers\n",
        "base_model = applications.resnet50.ResNet50(weights= None, include_top=False, input_shape= (img_height,img_width,1))\n",
        "x = base_model.output\n",
        "x = GlobalAveragePooling2D()(x)\n",
        "x = Dropout(0.7)(x)\n",
        "predictions = Dense(num_classes, activation= 'softmax')(x)\n",
        "model = Model(inputs = base_model.input, outputs = predictions)\n",
        "#the used optimizer\n",
        "adam = Adam(lr=0.0001)\n",
        "model.compile(optimizer= adam, loss='categorical_crossentropy', metrics=['accuracy'])"
      ],
      "execution_count": 2,
      "outputs": [
        {
          "output_type": "stream",
          "text": [
            "WARNING:tensorflow:From /usr/local/lib/python3.6/dist-packages/keras/backend/tensorflow_backend.py:66: The name tf.get_default_graph is deprecated. Please use tf.compat.v1.get_default_graph instead.\n",
            "\n",
            "WARNING:tensorflow:From /usr/local/lib/python3.6/dist-packages/keras/backend/tensorflow_backend.py:541: The name tf.placeholder is deprecated. Please use tf.compat.v1.placeholder instead.\n",
            "\n",
            "WARNING:tensorflow:From /usr/local/lib/python3.6/dist-packages/keras/backend/tensorflow_backend.py:4479: The name tf.truncated_normal is deprecated. Please use tf.random.truncated_normal instead.\n",
            "\n",
            "WARNING:tensorflow:From /usr/local/lib/python3.6/dist-packages/keras/backend/tensorflow_backend.py:190: The name tf.get_default_session is deprecated. Please use tf.compat.v1.get_default_session instead.\n",
            "\n",
            "WARNING:tensorflow:From /usr/local/lib/python3.6/dist-packages/keras/backend/tensorflow_backend.py:197: The name tf.ConfigProto is deprecated. Please use tf.compat.v1.ConfigProto instead.\n",
            "\n",
            "WARNING:tensorflow:From /usr/local/lib/python3.6/dist-packages/keras/backend/tensorflow_backend.py:203: The name tf.Session is deprecated. Please use tf.compat.v1.Session instead.\n",
            "\n",
            "WARNING:tensorflow:From /usr/local/lib/python3.6/dist-packages/keras/backend/tensorflow_backend.py:207: The name tf.global_variables is deprecated. Please use tf.compat.v1.global_variables instead.\n",
            "\n",
            "WARNING:tensorflow:From /usr/local/lib/python3.6/dist-packages/keras/backend/tensorflow_backend.py:216: The name tf.is_variable_initialized is deprecated. Please use tf.compat.v1.is_variable_initialized instead.\n",
            "\n",
            "WARNING:tensorflow:From /usr/local/lib/python3.6/dist-packages/keras/backend/tensorflow_backend.py:223: The name tf.variables_initializer is deprecated. Please use tf.compat.v1.variables_initializer instead.\n",
            "\n",
            "WARNING:tensorflow:From /usr/local/lib/python3.6/dist-packages/keras/backend/tensorflow_backend.py:2041: The name tf.nn.fused_batch_norm is deprecated. Please use tf.compat.v1.nn.fused_batch_norm instead.\n",
            "\n",
            "WARNING:tensorflow:From /usr/local/lib/python3.6/dist-packages/keras/backend/tensorflow_backend.py:148: The name tf.placeholder_with_default is deprecated. Please use tf.compat.v1.placeholder_with_default instead.\n",
            "\n",
            "WARNING:tensorflow:From /usr/local/lib/python3.6/dist-packages/keras/backend/tensorflow_backend.py:4267: The name tf.nn.max_pool is deprecated. Please use tf.nn.max_pool2d instead.\n",
            "\n",
            "WARNING:tensorflow:From /usr/local/lib/python3.6/dist-packages/keras/backend/tensorflow_backend.py:3733: calling dropout (from tensorflow.python.ops.nn_ops) with keep_prob is deprecated and will be removed in a future version.\n",
            "Instructions for updating:\n",
            "Please use `rate` instead of `keep_prob`. Rate should be set to `rate = 1 - keep_prob`.\n",
            "WARNING:tensorflow:Large dropout rate: 0.7 (>0.5). In TensorFlow 2.x, dropout() uses dropout rate instead of keep_prob. Please ensure that this is intended.\n",
            "WARNING:tensorflow:From /usr/local/lib/python3.6/dist-packages/keras/backend/tensorflow_backend.py:4432: The name tf.random_uniform is deprecated. Please use tf.random.uniform instead.\n",
            "\n",
            "WARNING:tensorflow:From /usr/local/lib/python3.6/dist-packages/keras/optimizers.py:793: The name tf.train.Optimizer is deprecated. Please use tf.compat.v1.train.Optimizer instead.\n",
            "\n",
            "WARNING:tensorflow:From /usr/local/lib/python3.6/dist-packages/keras/backend/tensorflow_backend.py:3576: The name tf.log is deprecated. Please use tf.math.log instead.\n",
            "\n"
          ],
          "name": "stdout"
        },
        {
          "output_type": "stream",
          "text": [
            "/usr/local/lib/python3.6/dist-packages/keras_applications/resnet50.py:265: UserWarning: The output shape of `ResNet50(include_top=False)` has been changed since Keras 2.2.0.\n",
            "  warnings.warn('The output shape of `ResNet50(include_top=False)` '\n"
          ],
          "name": "stderr"
        }
      ]
    },
    {
      "cell_type": "code",
      "metadata": {
        "id": "D4gd3GIuCFTD",
        "colab_type": "code",
        "colab": {}
      },
      "source": [
        "#reading and processing and normalizing training images\n",
        "x_train = pd.read_pickle(\"/content/drive/My Drive/MNIST img recognition/modified-mnist/train_max_x\")\n",
        "x_train /= 255\n",
        "x_train = x_train.reshape((-1, 128, 128,1))"
      ],
      "execution_count": 0,
      "outputs": []
    },
    {
      "cell_type": "code",
      "metadata": {
        "id": "O5PAT4yyqxCX",
        "colab_type": "code",
        "colab": {}
      },
      "source": [
        "#reading and processing and normalizing training labels\n",
        "y_train  = pd.read_csv(\"/content/drive/My Drive/MNIST img recognition/modified-mnist/train_max_y.csv\")\n",
        "y_train = y_train[\"Label\"].values\n",
        "y_train = to_categorical(y_train)\n"
      ],
      "execution_count": 0,
      "outputs": []
    },
    {
      "cell_type": "code",
      "metadata": {
        "id": "_R_IivJtCIjt",
        "colab_type": "code",
        "colab": {}
      },
      "source": [
        "#reading and processing and normalizing test images\n",
        "x_test = pd.read_pickle(\"/content/drive/My Drive/MNIST img recognition/modified-mnist/test_max_x\")\n",
        "x_test /= 255\n",
        "\n",
        "x_test = x_test.reshape((-1, 128, 128,1))\n",
        "#splitting the train images and labels into validation images and labels\n",
        "x_train, x_val, y_train, y_val = train_test_split(x_train, y_train, test_size=0.2)\n",
        "\n",
        "\n"
      ],
      "execution_count": 0,
      "outputs": []
    },
    {
      "cell_type": "code",
      "metadata": {
        "id": "y5HbUgGaCLF5",
        "colab_type": "code",
        "outputId": "254c7e89-aff0-444b-83c9-ce66de7ff826",
        "colab": {
          "base_uri": "https://localhost:8080/",
          "height": 1000
        }
      },
      "source": [
        "mdfit = model.fit(x_train, y_train, epochs = 100, batch_size = 64, validation_data=(x_val, y_val))"
      ],
      "execution_count": 6,
      "outputs": [
        {
          "output_type": "stream",
          "text": [
            "WARNING:tensorflow:From /usr/local/lib/python3.6/dist-packages/tensorflow_core/python/ops/math_grad.py:1424: where (from tensorflow.python.ops.array_ops) is deprecated and will be removed in a future version.\n",
            "Instructions for updating:\n",
            "Use tf.where in 2.0, which has the same broadcast rule as np.where\n",
            "WARNING:tensorflow:From /usr/local/lib/python3.6/dist-packages/keras/backend/tensorflow_backend.py:1033: The name tf.assign_add is deprecated. Please use tf.compat.v1.assign_add instead.\n",
            "\n",
            "WARNING:tensorflow:From /usr/local/lib/python3.6/dist-packages/keras/backend/tensorflow_backend.py:1020: The name tf.assign is deprecated. Please use tf.compat.v1.assign instead.\n",
            "\n",
            "Train on 40000 samples, validate on 10000 samples\n",
            "Epoch 1/100\n",
            "40000/40000 [==============================] - 173s 4ms/step - loss: 2.7967 - acc: 0.2076 - val_loss: 2.1211 - val_acc: 0.2359\n",
            "Epoch 2/100\n",
            "40000/40000 [==============================] - 109s 3ms/step - loss: 2.1635 - acc: 0.2417 - val_loss: 3.1082 - val_acc: 0.2655\n",
            "Epoch 3/100\n",
            "40000/40000 [==============================] - 109s 3ms/step - loss: 2.0855 - acc: 0.2562 - val_loss: 2.8776 - val_acc: 0.2749\n",
            "Epoch 4/100\n",
            "40000/40000 [==============================] - 109s 3ms/step - loss: 2.0492 - acc: 0.2774 - val_loss: 2.2493 - val_acc: 0.2980\n",
            "Epoch 5/100\n",
            "40000/40000 [==============================] - 109s 3ms/step - loss: 2.0059 - acc: 0.3011 - val_loss: 3.2218 - val_acc: 0.2953\n",
            "Epoch 6/100\n",
            "40000/40000 [==============================] - 109s 3ms/step - loss: 1.9405 - acc: 0.3308 - val_loss: 1.7840 - val_acc: 0.3455\n",
            "Epoch 7/100\n",
            "40000/40000 [==============================] - 108s 3ms/step - loss: 1.9038 - acc: 0.3363 - val_loss: 1.7850 - val_acc: 0.3285\n",
            "Epoch 8/100\n",
            "40000/40000 [==============================] - 108s 3ms/step - loss: 1.8299 - acc: 0.3557 - val_loss: 2.3670 - val_acc: 0.3109\n",
            "Epoch 9/100\n",
            "40000/40000 [==============================] - 108s 3ms/step - loss: 1.7541 - acc: 0.3945 - val_loss: 1.7570 - val_acc: 0.4148\n",
            "Epoch 10/100\n",
            "40000/40000 [==============================] - 108s 3ms/step - loss: 1.5562 - acc: 0.4827 - val_loss: 3.0575 - val_acc: 0.3672\n",
            "Epoch 11/100\n",
            "40000/40000 [==============================] - 108s 3ms/step - loss: 1.3623 - acc: 0.5530 - val_loss: 1.3224 - val_acc: 0.5820\n",
            "Epoch 12/100\n",
            "40000/40000 [==============================] - 108s 3ms/step - loss: 1.0578 - acc: 0.6535 - val_loss: 1.5830 - val_acc: 0.5220\n",
            "Epoch 13/100\n",
            "40000/40000 [==============================] - 108s 3ms/step - loss: 0.9048 - acc: 0.6966 - val_loss: 1.1467 - val_acc: 0.6974\n",
            "Epoch 14/100\n",
            "40000/40000 [==============================] - 108s 3ms/step - loss: 0.7136 - acc: 0.7656 - val_loss: 0.7022 - val_acc: 0.7722\n",
            "Epoch 15/100\n",
            "40000/40000 [==============================] - 108s 3ms/step - loss: 0.5280 - acc: 0.8317 - val_loss: 0.7293 - val_acc: 0.7624\n",
            "Epoch 16/100\n",
            "40000/40000 [==============================] - 108s 3ms/step - loss: 0.3949 - acc: 0.8777 - val_loss: 0.6381 - val_acc: 0.8251\n",
            "Epoch 17/100\n",
            "40000/40000 [==============================] - 108s 3ms/step - loss: 0.2941 - acc: 0.9077 - val_loss: 0.7682 - val_acc: 0.8020\n",
            "Epoch 18/100\n",
            "40000/40000 [==============================] - 108s 3ms/step - loss: 0.2289 - acc: 0.9290 - val_loss: 0.6039 - val_acc: 0.8402\n",
            "Epoch 19/100\n",
            "40000/40000 [==============================] - 108s 3ms/step - loss: 0.1757 - acc: 0.9447 - val_loss: 0.7708 - val_acc: 0.8044\n",
            "Epoch 20/100\n",
            "40000/40000 [==============================] - 108s 3ms/step - loss: 0.1436 - acc: 0.9542 - val_loss: 0.5442 - val_acc: 0.8635\n",
            "Epoch 21/100\n",
            "40000/40000 [==============================] - 108s 3ms/step - loss: 0.1230 - acc: 0.9620 - val_loss: 0.9837 - val_acc: 0.7766\n",
            "Epoch 22/100\n",
            "40000/40000 [==============================] - 108s 3ms/step - loss: 0.0990 - acc: 0.9685 - val_loss: 0.6175 - val_acc: 0.8586\n",
            "Epoch 23/100\n",
            "40000/40000 [==============================] - 108s 3ms/step - loss: 0.0902 - acc: 0.9719 - val_loss: 0.6624 - val_acc: 0.8476\n",
            "Epoch 24/100\n",
            "40000/40000 [==============================] - 108s 3ms/step - loss: 0.0653 - acc: 0.9790 - val_loss: 0.6610 - val_acc: 0.8625\n",
            "Epoch 25/100\n",
            "40000/40000 [==============================] - 108s 3ms/step - loss: 0.0761 - acc: 0.9763 - val_loss: 0.6638 - val_acc: 0.8588\n",
            "Epoch 26/100\n",
            "40000/40000 [==============================] - 108s 3ms/step - loss: 0.0622 - acc: 0.9803 - val_loss: 0.6747 - val_acc: 0.8560\n",
            "Epoch 27/100\n",
            "40000/40000 [==============================] - 108s 3ms/step - loss: 0.0545 - acc: 0.9828 - val_loss: 0.5747 - val_acc: 0.8808\n",
            "Epoch 28/100\n",
            "40000/40000 [==============================] - 108s 3ms/step - loss: 0.0534 - acc: 0.9836 - val_loss: 0.5174 - val_acc: 0.8925\n",
            "Epoch 29/100\n",
            "40000/40000 [==============================] - 108s 3ms/step - loss: 0.0593 - acc: 0.9817 - val_loss: 0.5018 - val_acc: 0.8917\n",
            "Epoch 30/100\n",
            "40000/40000 [==============================] - 108s 3ms/step - loss: 0.0510 - acc: 0.9841 - val_loss: 0.9594 - val_acc: 0.8235\n",
            "Epoch 31/100\n",
            "40000/40000 [==============================] - 108s 3ms/step - loss: 0.0396 - acc: 0.9871 - val_loss: 0.5920 - val_acc: 0.8805\n",
            "Epoch 32/100\n",
            "40000/40000 [==============================] - 108s 3ms/step - loss: 0.0503 - acc: 0.9845 - val_loss: 0.5859 - val_acc: 0.8731\n",
            "Epoch 33/100\n",
            "40000/40000 [==============================] - 108s 3ms/step - loss: 0.0500 - acc: 0.9845 - val_loss: 0.6273 - val_acc: 0.8715\n",
            "Epoch 34/100\n",
            "40000/40000 [==============================] - 108s 3ms/step - loss: 0.0410 - acc: 0.9870 - val_loss: 0.5030 - val_acc: 0.8919\n",
            "Epoch 35/100\n",
            "40000/40000 [==============================] - 108s 3ms/step - loss: 0.0342 - acc: 0.9897 - val_loss: 1.0583 - val_acc: 0.8078\n",
            "Epoch 36/100\n",
            "40000/40000 [==============================] - 108s 3ms/step - loss: 0.0403 - acc: 0.9877 - val_loss: 0.5289 - val_acc: 0.8953\n",
            "Epoch 37/100\n",
            "40000/40000 [==============================] - 108s 3ms/step - loss: 0.0340 - acc: 0.9893 - val_loss: 0.9124 - val_acc: 0.8489\n",
            "Epoch 38/100\n",
            "40000/40000 [==============================] - 108s 3ms/step - loss: 0.0356 - acc: 0.9892 - val_loss: 0.5276 - val_acc: 0.8935\n",
            "Epoch 39/100\n",
            "40000/40000 [==============================] - 108s 3ms/step - loss: 0.0330 - acc: 0.9895 - val_loss: 0.5751 - val_acc: 0.8882\n",
            "Epoch 40/100\n",
            "40000/40000 [==============================] - 108s 3ms/step - loss: 0.0264 - acc: 0.9918 - val_loss: 0.9506 - val_acc: 0.8334\n",
            "Epoch 41/100\n",
            "40000/40000 [==============================] - 108s 3ms/step - loss: 0.0300 - acc: 0.9903 - val_loss: 0.5029 - val_acc: 0.9013\n",
            "Epoch 42/100\n",
            "40000/40000 [==============================] - 108s 3ms/step - loss: 0.0322 - acc: 0.9905 - val_loss: 0.5682 - val_acc: 0.8909\n",
            "Epoch 43/100\n",
            "40000/40000 [==============================] - 108s 3ms/step - loss: 0.0330 - acc: 0.9894 - val_loss: 0.5583 - val_acc: 0.9013\n",
            "Epoch 44/100\n",
            "40000/40000 [==============================] - 108s 3ms/step - loss: 0.0278 - acc: 0.9920 - val_loss: 0.5749 - val_acc: 0.8884\n",
            "Epoch 45/100\n",
            "40000/40000 [==============================] - 108s 3ms/step - loss: 0.0284 - acc: 0.9922 - val_loss: 0.6238 - val_acc: 0.8897\n",
            "Epoch 46/100\n",
            "40000/40000 [==============================] - 108s 3ms/step - loss: 0.0319 - acc: 0.9908 - val_loss: 0.4733 - val_acc: 0.9042\n",
            "Epoch 47/100\n",
            "40000/40000 [==============================] - 108s 3ms/step - loss: 0.0252 - acc: 0.9926 - val_loss: 0.5672 - val_acc: 0.9002\n",
            "Epoch 48/100\n",
            "40000/40000 [==============================] - 108s 3ms/step - loss: 0.0234 - acc: 0.9932 - val_loss: 0.5385 - val_acc: 0.9067\n",
            "Epoch 49/100\n",
            "40000/40000 [==============================] - 108s 3ms/step - loss: 0.0253 - acc: 0.9931 - val_loss: 0.4912 - val_acc: 0.9122\n",
            "Epoch 50/100\n",
            "40000/40000 [==============================] - 109s 3ms/step - loss: 0.0232 - acc: 0.9924 - val_loss: 0.6118 - val_acc: 0.8928\n",
            "Epoch 51/100\n",
            "40000/40000 [==============================] - 108s 3ms/step - loss: 0.0216 - acc: 0.9931 - val_loss: 0.4921 - val_acc: 0.9145\n",
            "Epoch 52/100\n",
            "40000/40000 [==============================] - 108s 3ms/step - loss: 0.0177 - acc: 0.9949 - val_loss: 0.5988 - val_acc: 0.8937\n",
            "Epoch 53/100\n",
            "40000/40000 [==============================] - 108s 3ms/step - loss: 0.0257 - acc: 0.9927 - val_loss: 0.4950 - val_acc: 0.9064\n",
            "Epoch 54/100\n",
            "40000/40000 [==============================] - 108s 3ms/step - loss: 0.0195 - acc: 0.9942 - val_loss: 0.6950 - val_acc: 0.8879\n",
            "Epoch 55/100\n",
            "40000/40000 [==============================] - 108s 3ms/step - loss: 0.0289 - acc: 0.9914 - val_loss: 0.4583 - val_acc: 0.9186\n",
            "Epoch 56/100\n",
            "40000/40000 [==============================] - 108s 3ms/step - loss: 0.0182 - acc: 0.9945 - val_loss: 0.6126 - val_acc: 0.8888\n",
            "Epoch 57/100\n",
            "40000/40000 [==============================] - 108s 3ms/step - loss: 0.0199 - acc: 0.9934 - val_loss: 0.5085 - val_acc: 0.9144\n",
            "Epoch 58/100\n",
            "40000/40000 [==============================] - 108s 3ms/step - loss: 0.0196 - acc: 0.9943 - val_loss: 0.5270 - val_acc: 0.9083\n",
            "Epoch 59/100\n",
            "40000/40000 [==============================] - 108s 3ms/step - loss: 0.0183 - acc: 0.9944 - val_loss: 0.5668 - val_acc: 0.9029\n",
            "Epoch 60/100\n",
            "40000/40000 [==============================] - 108s 3ms/step - loss: 0.0169 - acc: 0.9952 - val_loss: 0.5518 - val_acc: 0.9019\n",
            "Epoch 61/100\n",
            "40000/40000 [==============================] - 108s 3ms/step - loss: 0.0180 - acc: 0.9948 - val_loss: 0.5065 - val_acc: 0.9109\n",
            "Epoch 62/100\n",
            "40000/40000 [==============================] - 108s 3ms/step - loss: 0.0194 - acc: 0.9945 - val_loss: 0.6516 - val_acc: 0.8944\n",
            "Epoch 63/100\n",
            "40000/40000 [==============================] - 107s 3ms/step - loss: 0.0176 - acc: 0.9949 - val_loss: 0.4586 - val_acc: 0.9162\n",
            "Epoch 64/100\n",
            "40000/40000 [==============================] - 107s 3ms/step - loss: 0.0165 - acc: 0.9949 - val_loss: 0.4928 - val_acc: 0.9148\n",
            "Epoch 65/100\n",
            "40000/40000 [==============================] - 107s 3ms/step - loss: 0.0174 - acc: 0.9955 - val_loss: 0.4312 - val_acc: 0.9240\n",
            "Epoch 66/100\n",
            "40000/40000 [==============================] - 107s 3ms/step - loss: 0.0250 - acc: 0.9935 - val_loss: 0.7134 - val_acc: 0.8898\n",
            "Epoch 67/100\n",
            "40000/40000 [==============================] - 107s 3ms/step - loss: 0.0163 - acc: 0.9953 - val_loss: 0.5354 - val_acc: 0.9112\n",
            "Epoch 68/100\n",
            "40000/40000 [==============================] - 107s 3ms/step - loss: 0.0144 - acc: 0.9953 - val_loss: 0.4051 - val_acc: 0.9274\n",
            "Epoch 69/100\n",
            "40000/40000 [==============================] - 107s 3ms/step - loss: 0.0145 - acc: 0.9956 - val_loss: 0.4156 - val_acc: 0.9263\n",
            "Epoch 70/100\n",
            "40000/40000 [==============================] - 107s 3ms/step - loss: 0.0175 - acc: 0.9947 - val_loss: 0.5328 - val_acc: 0.9035\n",
            "Epoch 71/100\n",
            "40000/40000 [==============================] - 107s 3ms/step - loss: 0.0111 - acc: 0.9965 - val_loss: 0.5524 - val_acc: 0.9097\n",
            "Epoch 72/100\n",
            "40000/40000 [==============================] - 107s 3ms/step - loss: 0.0160 - acc: 0.9953 - val_loss: 0.6173 - val_acc: 0.9071\n",
            "Epoch 73/100\n",
            "40000/40000 [==============================] - 107s 3ms/step - loss: 0.0161 - acc: 0.9956 - val_loss: 0.7042 - val_acc: 0.8883\n",
            "Epoch 74/100\n",
            "40000/40000 [==============================] - 107s 3ms/step - loss: 0.0150 - acc: 0.9957 - val_loss: 0.5168 - val_acc: 0.9122\n",
            "Epoch 75/100\n",
            "14976/40000 [==========>...................] - ETA: 1:02 - loss: 0.0157 - acc: 0.9951"
          ],
          "name": "stdout"
        },
        {
          "output_type": "error",
          "ename": "KeyboardInterrupt",
          "evalue": "ignored",
          "traceback": [
            "\u001b[0;31m---------------------------------------------------------------------------\u001b[0m",
            "\u001b[0;31mKeyboardInterrupt\u001b[0m                         Traceback (most recent call last)",
            "\u001b[0;32m<ipython-input-6-9afb9fbe9c15>\u001b[0m in \u001b[0;36m<module>\u001b[0;34m()\u001b[0m\n\u001b[0;32m----> 1\u001b[0;31m \u001b[0mmdfit\u001b[0m \u001b[0;34m=\u001b[0m \u001b[0mmodel\u001b[0m\u001b[0;34m.\u001b[0m\u001b[0mfit\u001b[0m\u001b[0;34m(\u001b[0m\u001b[0mx_train\u001b[0m\u001b[0;34m,\u001b[0m \u001b[0my_train\u001b[0m\u001b[0;34m,\u001b[0m \u001b[0mepochs\u001b[0m \u001b[0;34m=\u001b[0m \u001b[0;36m100\u001b[0m\u001b[0;34m,\u001b[0m \u001b[0mbatch_size\u001b[0m \u001b[0;34m=\u001b[0m \u001b[0;36m64\u001b[0m\u001b[0;34m,\u001b[0m \u001b[0mvalidation_data\u001b[0m\u001b[0;34m=\u001b[0m\u001b[0;34m(\u001b[0m\u001b[0mx_val\u001b[0m\u001b[0;34m,\u001b[0m \u001b[0my_val\u001b[0m\u001b[0;34m)\u001b[0m\u001b[0;34m)\u001b[0m\u001b[0;34m\u001b[0m\u001b[0;34m\u001b[0m\u001b[0m\n\u001b[0m",
            "\u001b[0;32m/usr/local/lib/python3.6/dist-packages/keras/engine/training.py\u001b[0m in \u001b[0;36mfit\u001b[0;34m(self, x, y, batch_size, epochs, verbose, callbacks, validation_split, validation_data, shuffle, class_weight, sample_weight, initial_epoch, steps_per_epoch, validation_steps, validation_freq, max_queue_size, workers, use_multiprocessing, **kwargs)\u001b[0m\n\u001b[1;32m   1176\u001b[0m                                         \u001b[0msteps_per_epoch\u001b[0m\u001b[0;34m=\u001b[0m\u001b[0msteps_per_epoch\u001b[0m\u001b[0;34m,\u001b[0m\u001b[0;34m\u001b[0m\u001b[0;34m\u001b[0m\u001b[0m\n\u001b[1;32m   1177\u001b[0m                                         \u001b[0mvalidation_steps\u001b[0m\u001b[0;34m=\u001b[0m\u001b[0mvalidation_steps\u001b[0m\u001b[0;34m,\u001b[0m\u001b[0;34m\u001b[0m\u001b[0;34m\u001b[0m\u001b[0m\n\u001b[0;32m-> 1178\u001b[0;31m                                         validation_freq=validation_freq)\n\u001b[0m\u001b[1;32m   1179\u001b[0m \u001b[0;34m\u001b[0m\u001b[0m\n\u001b[1;32m   1180\u001b[0m     def evaluate(self,\n",
            "\u001b[0;32m/usr/local/lib/python3.6/dist-packages/keras/engine/training_arrays.py\u001b[0m in \u001b[0;36mfit_loop\u001b[0;34m(model, fit_function, fit_inputs, out_labels, batch_size, epochs, verbose, callbacks, val_function, val_inputs, shuffle, callback_metrics, initial_epoch, steps_per_epoch, validation_steps, validation_freq)\u001b[0m\n\u001b[1;32m    202\u001b[0m                     \u001b[0mins_batch\u001b[0m\u001b[0;34m[\u001b[0m\u001b[0mi\u001b[0m\u001b[0;34m]\u001b[0m \u001b[0;34m=\u001b[0m \u001b[0mins_batch\u001b[0m\u001b[0;34m[\u001b[0m\u001b[0mi\u001b[0m\u001b[0;34m]\u001b[0m\u001b[0;34m.\u001b[0m\u001b[0mtoarray\u001b[0m\u001b[0;34m(\u001b[0m\u001b[0;34m)\u001b[0m\u001b[0;34m\u001b[0m\u001b[0;34m\u001b[0m\u001b[0m\n\u001b[1;32m    203\u001b[0m \u001b[0;34m\u001b[0m\u001b[0m\n\u001b[0;32m--> 204\u001b[0;31m                 \u001b[0mouts\u001b[0m \u001b[0;34m=\u001b[0m \u001b[0mfit_function\u001b[0m\u001b[0;34m(\u001b[0m\u001b[0mins_batch\u001b[0m\u001b[0;34m)\u001b[0m\u001b[0;34m\u001b[0m\u001b[0;34m\u001b[0m\u001b[0m\n\u001b[0m\u001b[1;32m    205\u001b[0m                 \u001b[0mouts\u001b[0m \u001b[0;34m=\u001b[0m \u001b[0mto_list\u001b[0m\u001b[0;34m(\u001b[0m\u001b[0mouts\u001b[0m\u001b[0;34m)\u001b[0m\u001b[0;34m\u001b[0m\u001b[0;34m\u001b[0m\u001b[0m\n\u001b[1;32m    206\u001b[0m                 \u001b[0;32mfor\u001b[0m \u001b[0ml\u001b[0m\u001b[0;34m,\u001b[0m \u001b[0mo\u001b[0m \u001b[0;32min\u001b[0m \u001b[0mzip\u001b[0m\u001b[0;34m(\u001b[0m\u001b[0mout_labels\u001b[0m\u001b[0;34m,\u001b[0m \u001b[0mouts\u001b[0m\u001b[0;34m)\u001b[0m\u001b[0;34m:\u001b[0m\u001b[0;34m\u001b[0m\u001b[0;34m\u001b[0m\u001b[0m\n",
            "\u001b[0;32m/usr/local/lib/python3.6/dist-packages/keras/backend/tensorflow_backend.py\u001b[0m in \u001b[0;36m__call__\u001b[0;34m(self, inputs)\u001b[0m\n\u001b[1;32m   2977\u001b[0m                     \u001b[0;32mreturn\u001b[0m \u001b[0mself\u001b[0m\u001b[0;34m.\u001b[0m\u001b[0m_legacy_call\u001b[0m\u001b[0;34m(\u001b[0m\u001b[0minputs\u001b[0m\u001b[0;34m)\u001b[0m\u001b[0;34m\u001b[0m\u001b[0;34m\u001b[0m\u001b[0m\n\u001b[1;32m   2978\u001b[0m \u001b[0;34m\u001b[0m\u001b[0m\n\u001b[0;32m-> 2979\u001b[0;31m             \u001b[0;32mreturn\u001b[0m \u001b[0mself\u001b[0m\u001b[0;34m.\u001b[0m\u001b[0m_call\u001b[0m\u001b[0;34m(\u001b[0m\u001b[0minputs\u001b[0m\u001b[0;34m)\u001b[0m\u001b[0;34m\u001b[0m\u001b[0;34m\u001b[0m\u001b[0m\n\u001b[0m\u001b[1;32m   2980\u001b[0m         \u001b[0;32melse\u001b[0m\u001b[0;34m:\u001b[0m\u001b[0;34m\u001b[0m\u001b[0;34m\u001b[0m\u001b[0m\n\u001b[1;32m   2981\u001b[0m             \u001b[0;32mif\u001b[0m \u001b[0mpy_any\u001b[0m\u001b[0;34m(\u001b[0m\u001b[0mis_tensor\u001b[0m\u001b[0;34m(\u001b[0m\u001b[0mx\u001b[0m\u001b[0;34m)\u001b[0m \u001b[0;32mfor\u001b[0m \u001b[0mx\u001b[0m \u001b[0;32min\u001b[0m \u001b[0minputs\u001b[0m\u001b[0;34m)\u001b[0m\u001b[0;34m:\u001b[0m\u001b[0;34m\u001b[0m\u001b[0;34m\u001b[0m\u001b[0m\n",
            "\u001b[0;32m/usr/local/lib/python3.6/dist-packages/keras/backend/tensorflow_backend.py\u001b[0m in \u001b[0;36m_call\u001b[0;34m(self, inputs)\u001b[0m\n\u001b[1;32m   2935\u001b[0m             \u001b[0mfetched\u001b[0m \u001b[0;34m=\u001b[0m \u001b[0mself\u001b[0m\u001b[0;34m.\u001b[0m\u001b[0m_callable_fn\u001b[0m\u001b[0;34m(\u001b[0m\u001b[0;34m*\u001b[0m\u001b[0marray_vals\u001b[0m\u001b[0;34m,\u001b[0m \u001b[0mrun_metadata\u001b[0m\u001b[0;34m=\u001b[0m\u001b[0mself\u001b[0m\u001b[0;34m.\u001b[0m\u001b[0mrun_metadata\u001b[0m\u001b[0;34m)\u001b[0m\u001b[0;34m\u001b[0m\u001b[0;34m\u001b[0m\u001b[0m\n\u001b[1;32m   2936\u001b[0m         \u001b[0;32melse\u001b[0m\u001b[0;34m:\u001b[0m\u001b[0;34m\u001b[0m\u001b[0;34m\u001b[0m\u001b[0m\n\u001b[0;32m-> 2937\u001b[0;31m             \u001b[0mfetched\u001b[0m \u001b[0;34m=\u001b[0m \u001b[0mself\u001b[0m\u001b[0;34m.\u001b[0m\u001b[0m_callable_fn\u001b[0m\u001b[0;34m(\u001b[0m\u001b[0;34m*\u001b[0m\u001b[0marray_vals\u001b[0m\u001b[0;34m)\u001b[0m\u001b[0;34m\u001b[0m\u001b[0;34m\u001b[0m\u001b[0m\n\u001b[0m\u001b[1;32m   2938\u001b[0m         \u001b[0;32mreturn\u001b[0m \u001b[0mfetched\u001b[0m\u001b[0;34m[\u001b[0m\u001b[0;34m:\u001b[0m\u001b[0mlen\u001b[0m\u001b[0;34m(\u001b[0m\u001b[0mself\u001b[0m\u001b[0;34m.\u001b[0m\u001b[0moutputs\u001b[0m\u001b[0;34m)\u001b[0m\u001b[0;34m]\u001b[0m\u001b[0;34m\u001b[0m\u001b[0;34m\u001b[0m\u001b[0m\n\u001b[1;32m   2939\u001b[0m \u001b[0;34m\u001b[0m\u001b[0m\n",
            "\u001b[0;32m/usr/local/lib/python3.6/dist-packages/tensorflow_core/python/client/session.py\u001b[0m in \u001b[0;36m__call__\u001b[0;34m(self, *args, **kwargs)\u001b[0m\n\u001b[1;32m   1470\u001b[0m         ret = tf_session.TF_SessionRunCallable(self._session._session,\n\u001b[1;32m   1471\u001b[0m                                                \u001b[0mself\u001b[0m\u001b[0;34m.\u001b[0m\u001b[0m_handle\u001b[0m\u001b[0;34m,\u001b[0m \u001b[0margs\u001b[0m\u001b[0;34m,\u001b[0m\u001b[0;34m\u001b[0m\u001b[0;34m\u001b[0m\u001b[0m\n\u001b[0;32m-> 1472\u001b[0;31m                                                run_metadata_ptr)\n\u001b[0m\u001b[1;32m   1473\u001b[0m         \u001b[0;32mif\u001b[0m \u001b[0mrun_metadata\u001b[0m\u001b[0;34m:\u001b[0m\u001b[0;34m\u001b[0m\u001b[0;34m\u001b[0m\u001b[0m\n\u001b[1;32m   1474\u001b[0m           \u001b[0mproto_data\u001b[0m \u001b[0;34m=\u001b[0m \u001b[0mtf_session\u001b[0m\u001b[0;34m.\u001b[0m\u001b[0mTF_GetBuffer\u001b[0m\u001b[0;34m(\u001b[0m\u001b[0mrun_metadata_ptr\u001b[0m\u001b[0;34m)\u001b[0m\u001b[0;34m\u001b[0m\u001b[0;34m\u001b[0m\u001b[0m\n",
            "\u001b[0;31mKeyboardInterrupt\u001b[0m: "
          ]
        }
      ]
    },
    {
      "cell_type": "code",
      "metadata": {
        "id": "kvGX2sNWCOzq",
        "colab_type": "code",
        "colab": {}
      },
      "source": [
        "preds = model.evaluate(x_val, y_val)\n",
        "print (\"Loss = \" + str(preds[0]))\n",
        "print (\"Test Accuracy = \" + str(preds[1]))"
      ],
      "execution_count": 0,
      "outputs": []
    },
    {
      "cell_type": "code",
      "metadata": {
        "id": "8HRV7J8cjavt",
        "colab_type": "code",
        "colab": {}
      },
      "source": [
        "result = model.predict(x_test, batch_size=512)\n",
        "result = np.argmax(result, axis=1)\n",
        "\n"
      ],
      "execution_count": 0,
      "outputs": []
    },
    {
      "cell_type": "code",
      "metadata": {
        "id": "UUNGXFAzjjWz",
        "colab_type": "code",
        "colab": {}
      },
      "source": [
        "pd.DataFrame({'Id': np.arange(result.shape[0]), 'Label': result}).to_csv(r'/content/drive/My Drive/MNIST img recognition/output.csv', index=False)"
      ],
      "execution_count": 0,
      "outputs": []
    }
  ]
}